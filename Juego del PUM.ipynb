{
 "cells": [
  {
   "cell_type": "markdown",
   "metadata": {},
   "source": [
    "## Juego del PUM!\n",
    "\n",
    "Para jugar al PUM los N jugadores se sientan en círculo y van diciendo números consecutivos a\n",
    "partir del 1 (1, 2, 3, ...). Para el juego se escoge un número X menor que 10 (por ejemplo 7) y a la\n",
    "persona a la que le corresponda decir un múltiplo de ese número (en el caso del 7: 7, 14, 21, 28,\n",
    "...), debe decir, en vez del número, la palabra PUM. Se debe escribir una función que diga, a partir de los\n",
    "número de jugadores N y del número escogido para el PUM X, el desarrollo del juego para los\n",
    "primeros 50 números, indicando el número del jugador y lo que dijo."
   ]
  },
  {
   "cell_type": "code",
   "execution_count": 3,
   "metadata": {},
   "outputs": [
    {
     "name": "stdout",
     "output_type": "stream",
     "text": [
      "Ingrese el número de jugadores: 3\n",
      "Ingrese el número escogido para el PUM (menor que 10): 3\n",
      "Jugador 2: 1\n",
      "Jugador 3: 2\n",
      "Jugador 4: PUM\n",
      "Jugador 2: 4\n",
      "Jugador 3: 5\n",
      "Jugador 4: PUM\n",
      "Jugador 2: 7\n",
      "Jugador 3: 8\n",
      "Jugador 4: PUM\n",
      "Jugador 2: 10\n",
      "Jugador 3: 11\n",
      "Jugador 4: PUM\n",
      "Jugador 2: 13\n",
      "Jugador 3: 14\n",
      "Jugador 4: PUM\n",
      "Jugador 2: 16\n",
      "Jugador 3: 17\n",
      "Jugador 4: PUM\n",
      "Jugador 2: 19\n",
      "Jugador 3: 20\n",
      "Jugador 4: PUM\n",
      "Jugador 2: 22\n",
      "Jugador 3: 23\n",
      "Jugador 4: PUM\n",
      "Jugador 2: 25\n",
      "Jugador 3: 26\n",
      "Jugador 4: PUM\n",
      "Jugador 2: 28\n",
      "Jugador 3: 29\n",
      "Jugador 4: PUM\n",
      "Jugador 2: 31\n",
      "Jugador 3: 32\n",
      "Jugador 4: PUM\n",
      "Jugador 2: 34\n",
      "Jugador 3: 35\n",
      "Jugador 4: PUM\n",
      "Jugador 2: 37\n",
      "Jugador 3: 38\n",
      "Jugador 4: PUM\n",
      "Jugador 2: 40\n",
      "Jugador 3: 41\n",
      "Jugador 4: PUM\n",
      "Jugador 2: 43\n",
      "Jugador 3: 44\n",
      "Jugador 4: PUM\n",
      "Jugador 2: 46\n",
      "Jugador 3: 47\n",
      "Jugador 4: PUM\n",
      "Jugador 2: 49\n",
      "Jugador 3: 50\n"
     ]
    }
   ],
   "source": [
    "# Datos de entrada: N y número múltiplo\n",
    "N = int(input(\"Ingrese el número de jugadores: \"))\n",
    "X = int(input(\"Ingrese el número escogido para el PUM (menor que 10): \"))\n",
    "\n",
    "# Función PUM\n",
    "def pum(N, X):\n",
    "    for i in range(1, 51):  # Iterar sobre los primeros 50 números del juego\n",
    "        jugador = (i - 1) % N + 1  # Determinar el número del jugador actual (comenzando desde 1)\n",
    "\n",
    "        if i % X == 0:  # Verificar si el número es un múltiplo de X\n",
    "            print(f\"Jugador {jugador + 1}: PUM\")  # Imprimir \"PUM\" si es un múltiplo\n",
    "        else:\n",
    "            print(f\"Jugador {jugador + 1}: {i}\")  # Imprimir el número si no es múltiplo\n",
    "\n",
    "\n",
    "\n",
    "# Verificar que el número escogido para el PUM sea menor que 10\n",
    "if X >= 10:\n",
    "    print(\"El número escogido para el PUM debe ser menor que 10\")\n",
    "else:\n",
    "    # Ejecutar el juego del PUM con los parámetros proporcionados\n",
    "    pum(N, X)\n"
   ]
  },
  {
   "cell_type": "code",
   "execution_count": null,
   "metadata": {},
   "outputs": [],
   "source": []
  }
 ],
 "metadata": {
  "kernelspec": {
   "display_name": "Python 3",
   "language": "python",
   "name": "python3"
  },
  "language_info": {
   "codemirror_mode": {
    "name": "ipython",
    "version": 3
   },
   "file_extension": ".py",
   "mimetype": "text/x-python",
   "name": "python",
   "nbconvert_exporter": "python",
   "pygments_lexer": "ipython3",
   "version": "3.8.3"
  }
 },
 "nbformat": 4,
 "nbformat_minor": 4
}
